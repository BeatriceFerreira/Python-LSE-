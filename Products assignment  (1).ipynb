{
 "cells": [
  {
   "cell_type": "code",
   "execution_count": 1,
   "id": "e7de4b21",
   "metadata": {},
   "outputs": [],
   "source": [
    "import pandas as pd"
   ]
  },
  {
   "cell_type": "code",
   "execution_count": 2,
   "id": "e3a9b569",
   "metadata": {},
   "outputs": [],
   "source": [
    "#import numpy and mp \n",
    "import numpy as np "
   ]
  },
  {
   "cell_type": "code",
   "execution_count": 3,
   "id": "b99fa953",
   "metadata": {},
   "outputs": [],
   "source": [
    "#import the csv \n",
    "products = ('products.csv')"
   ]
  },
  {
   "cell_type": "code",
   "execution_count": 4,
   "id": "84ae8c02",
   "metadata": {
    "scrolled": true
   },
   "outputs": [
    {
     "ename": "AttributeError",
     "evalue": "'str' object has no attribute 'shape'",
     "output_type": "error",
     "traceback": [
      "\u001b[0;31m---------------------------------------------------------------------------\u001b[0m",
      "\u001b[0;31mAttributeError\u001b[0m                            Traceback (most recent call last)",
      "Input \u001b[0;32mIn [4]\u001b[0m, in \u001b[0;36m<cell line: 2>\u001b[0;34m()\u001b[0m\n\u001b[1;32m      1\u001b[0m \u001b[38;5;66;03m# View the DataFrame.\u001b[39;00m\n\u001b[0;32m----> 2\u001b[0m \u001b[43mproducts\u001b[49m\u001b[38;5;241;43m.\u001b[39;49m\u001b[43mshape\u001b[49m\n",
      "\u001b[0;31mAttributeError\u001b[0m: 'str' object has no attribute 'shape'"
     ]
    }
   ],
   "source": [
    "# View the DataFrame.\n",
    "products.shape\n",
    "#I tried to view the DataFrame before the read function "
   ]
  },
  {
   "cell_type": "code",
   "execution_count": 6,
   "id": "66ac4a02",
   "metadata": {},
   "outputs": [],
   "source": [
    "products = pd.read_csv('products.csv')"
   ]
  },
  {
   "cell_type": "code",
   "execution_count": 7,
   "id": "03aa080b",
   "metadata": {},
   "outputs": [
    {
     "data": {
      "text/plain": [
       "(3945, 2)"
      ]
     },
     "execution_count": 7,
     "metadata": {},
     "output_type": "execute_result"
    }
   ],
   "source": [
    "# View the DataFrame.\n",
    "products.shape"
   ]
  },
  {
   "cell_type": "code",
   "execution_count": 8,
   "id": "f1f5198c",
   "metadata": {},
   "outputs": [
    {
     "data": {
      "text/html": [
       "<div>\n",
       "<style scoped>\n",
       "    .dataframe tbody tr th:only-of-type {\n",
       "        vertical-align: middle;\n",
       "    }\n",
       "\n",
       "    .dataframe tbody tr th {\n",
       "        vertical-align: top;\n",
       "    }\n",
       "\n",
       "    .dataframe thead th {\n",
       "        text-align: right;\n",
       "    }\n",
       "</style>\n",
       "<table border=\"1\" class=\"dataframe\">\n",
       "  <thead>\n",
       "    <tr style=\"text-align: right;\">\n",
       "      <th></th>\n",
       "      <th>StockCode</th>\n",
       "      <th>Description</th>\n",
       "    </tr>\n",
       "  </thead>\n",
       "  <tbody>\n",
       "  </tbody>\n",
       "</table>\n",
       "</div>"
      ],
      "text/plain": [
       "Empty DataFrame\n",
       "Columns: [StockCode, Description]\n",
       "Index: []"
      ]
     },
     "execution_count": 8,
     "metadata": {},
     "output_type": "execute_result"
    }
   ],
   "source": [
    "products[products['Description'].apply(lambda x: 'Fire' in x.lower())]\n",
    "#function did not work because I used a capital F "
   ]
  },
  {
   "cell_type": "code",
   "execution_count": 9,
   "id": "8570a393",
   "metadata": {},
   "outputs": [
    {
     "data": {
      "text/html": [
       "<div>\n",
       "<style scoped>\n",
       "    .dataframe tbody tr th:only-of-type {\n",
       "        vertical-align: middle;\n",
       "    }\n",
       "\n",
       "    .dataframe tbody tr th {\n",
       "        vertical-align: top;\n",
       "    }\n",
       "\n",
       "    .dataframe thead th {\n",
       "        text-align: right;\n",
       "    }\n",
       "</style>\n",
       "<table border=\"1\" class=\"dataframe\">\n",
       "  <thead>\n",
       "    <tr style=\"text-align: right;\">\n",
       "      <th></th>\n",
       "      <th>StockCode</th>\n",
       "      <th>Description</th>\n",
       "    </tr>\n",
       "  </thead>\n",
       "  <tbody>\n",
       "    <tr>\n",
       "      <th>1318</th>\n",
       "      <td>22428</td>\n",
       "      <td>ENAMEL FIRE BUCKET CREAM</td>\n",
       "    </tr>\n",
       "    <tr>\n",
       "      <th>3033</th>\n",
       "      <td>84569B</td>\n",
       "      <td>PACK 3 FIRE ENGINE/CAR PATCHES</td>\n",
       "    </tr>\n",
       "    <tr>\n",
       "      <th>3626</th>\n",
       "      <td>90039A</td>\n",
       "      <td>FIRE POLISHED GLASS BRACELET RED</td>\n",
       "    </tr>\n",
       "    <tr>\n",
       "      <th>3627</th>\n",
       "      <td>90039B</td>\n",
       "      <td>FIRE POLISHED GLASS BRACELET MONTAN</td>\n",
       "    </tr>\n",
       "    <tr>\n",
       "      <th>3628</th>\n",
       "      <td>90039C</td>\n",
       "      <td>FIRE POLISHED GLASS BRACELET BLACK</td>\n",
       "    </tr>\n",
       "    <tr>\n",
       "      <th>3629</th>\n",
       "      <td>90039D</td>\n",
       "      <td>FIRE POLISHED GLASS BRACELET GREEN</td>\n",
       "    </tr>\n",
       "    <tr>\n",
       "      <th>3656</th>\n",
       "      <td>90060B</td>\n",
       "      <td>FIRE POLISHED GLASS NECKL GOLD</td>\n",
       "    </tr>\n",
       "    <tr>\n",
       "      <th>3657</th>\n",
       "      <td>90060D</td>\n",
       "      <td>FIRE POLISHED GLASS NECKL BRONZE</td>\n",
       "    </tr>\n",
       "    <tr>\n",
       "      <th>3658</th>\n",
       "      <td>90060F</td>\n",
       "      <td>FIRE POLISHED GLASS NECKL GREEN</td>\n",
       "    </tr>\n",
       "  </tbody>\n",
       "</table>\n",
       "</div>"
      ],
      "text/plain": [
       "     StockCode                          Description\n",
       "1318     22428             ENAMEL FIRE BUCKET CREAM\n",
       "3033    84569B       PACK 3 FIRE ENGINE/CAR PATCHES\n",
       "3626    90039A     FIRE POLISHED GLASS BRACELET RED\n",
       "3627    90039B  FIRE POLISHED GLASS BRACELET MONTAN\n",
       "3628    90039C   FIRE POLISHED GLASS BRACELET BLACK\n",
       "3629    90039D   FIRE POLISHED GLASS BRACELET GREEN\n",
       "3656    90060B       FIRE POLISHED GLASS NECKL GOLD\n",
       "3657    90060D     FIRE POLISHED GLASS NECKL BRONZE\n",
       "3658    90060F      FIRE POLISHED GLASS NECKL GREEN"
      ]
     },
     "execution_count": 9,
     "metadata": {},
     "output_type": "execute_result"
    }
   ],
   "source": [
    "#apply function to find products containing 'fire' \n",
    "products[products['Description'].apply(lambda x: 'fire' in x.lower())]"
   ]
  },
  {
   "cell_type": "code",
   "execution_count": 10,
   "id": "32106a2e",
   "metadata": {},
   "outputs": [
    {
     "data": {
      "text/html": [
       "<div>\n",
       "<style scoped>\n",
       "    .dataframe tbody tr th:only-of-type {\n",
       "        vertical-align: middle;\n",
       "    }\n",
       "\n",
       "    .dataframe tbody tr th {\n",
       "        vertical-align: top;\n",
       "    }\n",
       "\n",
       "    .dataframe thead th {\n",
       "        text-align: right;\n",
       "    }\n",
       "</style>\n",
       "<table border=\"1\" class=\"dataframe\">\n",
       "  <thead>\n",
       "    <tr style=\"text-align: right;\">\n",
       "      <th></th>\n",
       "      <th>StockCode</th>\n",
       "      <th>Description</th>\n",
       "    </tr>\n",
       "  </thead>\n",
       "  <tbody>\n",
       "    <tr>\n",
       "      <th>83</th>\n",
       "      <td>17012A</td>\n",
       "      <td>ORIGAMI VANILLA INCENSE/CANDLE SET</td>\n",
       "    </tr>\n",
       "    <tr>\n",
       "      <th>84</th>\n",
       "      <td>17012B</td>\n",
       "      <td>ORIGAMI JASMINE INCENSE/CANDLE SET</td>\n",
       "    </tr>\n",
       "    <tr>\n",
       "      <th>86</th>\n",
       "      <td>17012D</td>\n",
       "      <td>ORIGAMI ROSE INCENSE/CANDLE SET</td>\n",
       "    </tr>\n",
       "    <tr>\n",
       "      <th>87</th>\n",
       "      <td>17012E</td>\n",
       "      <td>ORIGAMI OPIUM INCENSE/CANDLE SET</td>\n",
       "    </tr>\n",
       "    <tr>\n",
       "      <th>107</th>\n",
       "      <td>17136A</td>\n",
       "      <td>BLUE STONES ON WIRE FOR CANDLE</td>\n",
       "    </tr>\n",
       "    <tr>\n",
       "      <th>...</th>\n",
       "      <td>...</td>\n",
       "      <td>...</td>\n",
       "    </tr>\n",
       "    <tr>\n",
       "      <th>3530</th>\n",
       "      <td>85230A</td>\n",
       "      <td>OPIUM SCENTED VOTIVE CANDLE</td>\n",
       "    </tr>\n",
       "    <tr>\n",
       "      <th>3531</th>\n",
       "      <td>85230B</td>\n",
       "      <td>CINNAMON SCENTED VOTIVE CANDLE</td>\n",
       "    </tr>\n",
       "    <tr>\n",
       "      <th>3532</th>\n",
       "      <td>85230E</td>\n",
       "      <td>STRAWBRY SCENTED VOTIVE CANDLE</td>\n",
       "    </tr>\n",
       "    <tr>\n",
       "      <th>3533</th>\n",
       "      <td>85230F</td>\n",
       "      <td>JASMINE VOTIVE CANDLE</td>\n",
       "    </tr>\n",
       "    <tr>\n",
       "      <th>3534</th>\n",
       "      <td>85230G</td>\n",
       "      <td>ORANGE VOTIVE CANDLE</td>\n",
       "    </tr>\n",
       "  </tbody>\n",
       "</table>\n",
       "<p>178 rows × 2 columns</p>\n",
       "</div>"
      ],
      "text/plain": [
       "     StockCode                         Description\n",
       "83      17012A  ORIGAMI VANILLA INCENSE/CANDLE SET\n",
       "84      17012B  ORIGAMI JASMINE INCENSE/CANDLE SET\n",
       "86      17012D     ORIGAMI ROSE INCENSE/CANDLE SET\n",
       "87      17012E    ORIGAMI OPIUM INCENSE/CANDLE SET\n",
       "107     17136A      BLUE STONES ON WIRE FOR CANDLE\n",
       "...        ...                                 ...\n",
       "3530    85230A         OPIUM SCENTED VOTIVE CANDLE\n",
       "3531    85230B      CINNAMON SCENTED VOTIVE CANDLE\n",
       "3532    85230E      STRAWBRY SCENTED VOTIVE CANDLE\n",
       "3533    85230F               JASMINE VOTIVE CANDLE\n",
       "3534    85230G                ORANGE VOTIVE CANDLE\n",
       "\n",
       "[178 rows x 2 columns]"
      ]
     },
     "execution_count": 10,
     "metadata": {},
     "output_type": "execute_result"
    }
   ],
   "source": [
    "#apply function to find products containing 'candle'\n",
    "products[products['Description'].apply(lambda x: 'candle' in x.lower())]\n",
    "#accidentally repeated the the candle snippet instead of matches - ignore"
   ]
  },
  {
   "cell_type": "code",
   "execution_count": 11,
   "id": "51e41f51",
   "metadata": {},
   "outputs": [
    {
     "data": {
      "text/html": [
       "<div>\n",
       "<style scoped>\n",
       "    .dataframe tbody tr th:only-of-type {\n",
       "        vertical-align: middle;\n",
       "    }\n",
       "\n",
       "    .dataframe tbody tr th {\n",
       "        vertical-align: top;\n",
       "    }\n",
       "\n",
       "    .dataframe thead th {\n",
       "        text-align: right;\n",
       "    }\n",
       "</style>\n",
       "<table border=\"1\" class=\"dataframe\">\n",
       "  <thead>\n",
       "    <tr style=\"text-align: right;\">\n",
       "      <th></th>\n",
       "      <th>StockCode</th>\n",
       "      <th>Description</th>\n",
       "    </tr>\n",
       "  </thead>\n",
       "  <tbody>\n",
       "    <tr>\n",
       "      <th>83</th>\n",
       "      <td>17012A</td>\n",
       "      <td>ORIGAMI VANILLA INCENSE/CANDLE SET</td>\n",
       "    </tr>\n",
       "    <tr>\n",
       "      <th>84</th>\n",
       "      <td>17012B</td>\n",
       "      <td>ORIGAMI JASMINE INCENSE/CANDLE SET</td>\n",
       "    </tr>\n",
       "    <tr>\n",
       "      <th>86</th>\n",
       "      <td>17012D</td>\n",
       "      <td>ORIGAMI ROSE INCENSE/CANDLE SET</td>\n",
       "    </tr>\n",
       "    <tr>\n",
       "      <th>87</th>\n",
       "      <td>17012E</td>\n",
       "      <td>ORIGAMI OPIUM INCENSE/CANDLE SET</td>\n",
       "    </tr>\n",
       "    <tr>\n",
       "      <th>107</th>\n",
       "      <td>17136A</td>\n",
       "      <td>BLUE STONES ON WIRE FOR CANDLE</td>\n",
       "    </tr>\n",
       "    <tr>\n",
       "      <th>...</th>\n",
       "      <td>...</td>\n",
       "      <td>...</td>\n",
       "    </tr>\n",
       "    <tr>\n",
       "      <th>3530</th>\n",
       "      <td>85230A</td>\n",
       "      <td>OPIUM SCENTED VOTIVE CANDLE</td>\n",
       "    </tr>\n",
       "    <tr>\n",
       "      <th>3531</th>\n",
       "      <td>85230B</td>\n",
       "      <td>CINNAMON SCENTED VOTIVE CANDLE</td>\n",
       "    </tr>\n",
       "    <tr>\n",
       "      <th>3532</th>\n",
       "      <td>85230E</td>\n",
       "      <td>STRAWBRY SCENTED VOTIVE CANDLE</td>\n",
       "    </tr>\n",
       "    <tr>\n",
       "      <th>3533</th>\n",
       "      <td>85230F</td>\n",
       "      <td>JASMINE VOTIVE CANDLE</td>\n",
       "    </tr>\n",
       "    <tr>\n",
       "      <th>3534</th>\n",
       "      <td>85230G</td>\n",
       "      <td>ORANGE VOTIVE CANDLE</td>\n",
       "    </tr>\n",
       "  </tbody>\n",
       "</table>\n",
       "<p>178 rows × 2 columns</p>\n",
       "</div>"
      ],
      "text/plain": [
       "     StockCode                         Description\n",
       "83      17012A  ORIGAMI VANILLA INCENSE/CANDLE SET\n",
       "84      17012B  ORIGAMI JASMINE INCENSE/CANDLE SET\n",
       "86      17012D     ORIGAMI ROSE INCENSE/CANDLE SET\n",
       "87      17012E    ORIGAMI OPIUM INCENSE/CANDLE SET\n",
       "107     17136A      BLUE STONES ON WIRE FOR CANDLE\n",
       "...        ...                                 ...\n",
       "3530    85230A         OPIUM SCENTED VOTIVE CANDLE\n",
       "3531    85230B      CINNAMON SCENTED VOTIVE CANDLE\n",
       "3532    85230E      STRAWBRY SCENTED VOTIVE CANDLE\n",
       "3533    85230F               JASMINE VOTIVE CANDLE\n",
       "3534    85230G                ORANGE VOTIVE CANDLE\n",
       "\n",
       "[178 rows x 2 columns]"
      ]
     },
     "execution_count": 11,
     "metadata": {},
     "output_type": "execute_result"
    }
   ],
   "source": [
    "#apply function to find products containing 'matches'\n",
    "products[products['Description'].apply(lambda x: 'candle' in x.lower())]"
   ]
  },
  {
   "cell_type": "code",
   "execution_count": 12,
   "id": "260398d8",
   "metadata": {},
   "outputs": [
    {
     "data": {
      "text/html": [
       "<div>\n",
       "<style scoped>\n",
       "    .dataframe tbody tr th:only-of-type {\n",
       "        vertical-align: middle;\n",
       "    }\n",
       "\n",
       "    .dataframe tbody tr th {\n",
       "        vertical-align: top;\n",
       "    }\n",
       "\n",
       "    .dataframe thead th {\n",
       "        text-align: right;\n",
       "    }\n",
       "</style>\n",
       "<table border=\"1\" class=\"dataframe\">\n",
       "  <thead>\n",
       "    <tr style=\"text-align: right;\">\n",
       "      <th></th>\n",
       "      <th>StockCode</th>\n",
       "      <th>Description</th>\n",
       "    </tr>\n",
       "  </thead>\n",
       "  <tbody>\n",
       "    <tr>\n",
       "      <th>669</th>\n",
       "      <td>21584</td>\n",
       "      <td>RETROSPOT SMALL TUBE MATCHES</td>\n",
       "    </tr>\n",
       "    <tr>\n",
       "      <th>670</th>\n",
       "      <td>21586</td>\n",
       "      <td>KINGS CHOICE GIANT TUBE MATCHES</td>\n",
       "    </tr>\n",
       "    <tr>\n",
       "      <th>671</th>\n",
       "      <td>21587</td>\n",
       "      <td>COSY HOUR GIANT TUBE MATCHES</td>\n",
       "    </tr>\n",
       "    <tr>\n",
       "      <th>672</th>\n",
       "      <td>21588</td>\n",
       "      <td>RETROSPOT GIANT TUBE MATCHES</td>\n",
       "    </tr>\n",
       "    <tr>\n",
       "      <th>673</th>\n",
       "      <td>21591</td>\n",
       "      <td>COSY HOUR CIGAR BOX MATCHES</td>\n",
       "    </tr>\n",
       "    <tr>\n",
       "      <th>674</th>\n",
       "      <td>21592</td>\n",
       "      <td>RETROSPOT CIGAR BOX MATCHES</td>\n",
       "    </tr>\n",
       "  </tbody>\n",
       "</table>\n",
       "</div>"
      ],
      "text/plain": [
       "    StockCode                      Description\n",
       "669     21584     RETROSPOT SMALL TUBE MATCHES\n",
       "670     21586  KINGS CHOICE GIANT TUBE MATCHES\n",
       "671     21587     COSY HOUR GIANT TUBE MATCHES\n",
       "672     21588     RETROSPOT GIANT TUBE MATCHES\n",
       "673     21591      COSY HOUR CIGAR BOX MATCHES\n",
       "674     21592      RETROSPOT CIGAR BOX MATCHES"
      ]
     },
     "execution_count": 12,
     "metadata": {},
     "output_type": "execute_result"
    }
   ],
   "source": [
    "#apply function to find products containing 'matches'\n",
    "products[products['Description'].apply(lambda x: 'matches' in x.lower())]"
   ]
  },
  {
   "cell_type": "code",
   "execution_count": 13,
   "id": "8c19669b",
   "metadata": {},
   "outputs": [],
   "source": [
    "#result: 9 rows contained the word 'fire', 178 rows contained the word 'candle' and 6 rows contained the word 'matches'"
   ]
  },
  {
   "cell_type": "code",
   "execution_count": null,
   "id": "f4b72d97",
   "metadata": {},
   "outputs": [],
   "source": []
  }
 ],
 "metadata": {
  "kernelspec": {
   "display_name": "Python 3 (ipykernel)",
   "language": "python",
   "name": "python3"
  },
  "language_info": {
   "codemirror_mode": {
    "name": "ipython",
    "version": 3
   },
   "file_extension": ".py",
   "mimetype": "text/x-python",
   "name": "python",
   "nbconvert_exporter": "python",
   "pygments_lexer": "ipython3",
   "version": "3.9.12"
  }
 },
 "nbformat": 4,
 "nbformat_minor": 5
}
